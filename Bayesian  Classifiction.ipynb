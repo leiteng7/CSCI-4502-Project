{
 "cells": [
  {
   "cell_type": "code",
   "execution_count": 154,
   "metadata": {
    "collapsed": true
   },
   "outputs": [],
   "source": [
    "#Some useful packages\n",
    "\n",
    "import pandas as pd\n",
    "import numpy as np\n",
    "import matplotlib.pylab as plt"
   ]
  },
  {
   "cell_type": "code",
   "execution_count": 167,
   "metadata": {},
   "outputs": [
    {
     "name": "stderr",
     "output_type": "stream",
     "text": [
      "C:\\ProgramData\\Anaconda3\\lib\\site-packages\\IPython\\core\\interactiveshell.py:2717: DtypeWarning: Columns (6) have mixed types. Specify dtype option on import or set low_memory=False.\n",
      "  interactivity=interactivity, compiler=compiler, result=result)\n"
     ]
    },
    {
     "data": {
      "text/html": [
       "<div>\n",
       "<style>\n",
       "    .dataframe thead tr:only-child th {\n",
       "        text-align: right;\n",
       "    }\n",
       "\n",
       "    .dataframe thead th {\n",
       "        text-align: left;\n",
       "    }\n",
       "\n",
       "    .dataframe tbody tr th {\n",
       "        vertical-align: top;\n",
       "    }\n",
       "</style>\n",
       "<table border=\"1\" class=\"dataframe\">\n",
       "  <thead>\n",
       "    <tr style=\"text-align: right;\">\n",
       "      <th></th>\n",
       "      <th>Date</th>\n",
       "      <th>Store Number</th>\n",
       "      <th>County Number</th>\n",
       "      <th>Category</th>\n",
       "      <th>Vendor Number</th>\n",
       "      <th>Item Number</th>\n",
       "      <th>Pack</th>\n",
       "      <th>Bottle Volume (ml)</th>\n",
       "      <th>State Bottle Cost</th>\n",
       "      <th>State Bottle Retail</th>\n",
       "      <th>Bottles Sold</th>\n",
       "      <th>Sale (Dollars)</th>\n",
       "      <th>Volume Sold (Liters)</th>\n",
       "    </tr>\n",
       "  </thead>\n",
       "  <tbody>\n",
       "    <tr>\n",
       "      <th>10708015</th>\n",
       "      <td>01/03/2017</td>\n",
       "      <td>4312</td>\n",
       "      <td>78.0</td>\n",
       "      <td>1012200.0</td>\n",
       "      <td>55.0</td>\n",
       "      <td>8208</td>\n",
       "      <td>6</td>\n",
       "      <td>1750</td>\n",
       "      <td>$10.52</td>\n",
       "      <td>15.78</td>\n",
       "      <td>3</td>\n",
       "      <td>$15.78</td>\n",
       "      <td>5.25</td>\n",
       "    </tr>\n",
       "    <tr>\n",
       "      <th>10708016</th>\n",
       "      <td>01/03/2017</td>\n",
       "      <td>4312</td>\n",
       "      <td>78.0</td>\n",
       "      <td>1042100.0</td>\n",
       "      <td>35.0</td>\n",
       "      <td>28206</td>\n",
       "      <td>12</td>\n",
       "      <td>750</td>\n",
       "      <td>$10.50</td>\n",
       "      <td>15.75</td>\n",
       "      <td>1</td>\n",
       "      <td>$189.00</td>\n",
       "      <td>0.75</td>\n",
       "    </tr>\n",
       "    <tr>\n",
       "      <th>10708017</th>\n",
       "      <td>01/03/2017</td>\n",
       "      <td>4312</td>\n",
       "      <td>78.0</td>\n",
       "      <td>1082000.0</td>\n",
       "      <td>259.0</td>\n",
       "      <td>65195</td>\n",
       "      <td>6</td>\n",
       "      <td>750</td>\n",
       "      <td>$9.83</td>\n",
       "      <td>14.75</td>\n",
       "      <td>1</td>\n",
       "      <td>$88.50</td>\n",
       "      <td>0.75</td>\n",
       "    </tr>\n",
       "    <tr>\n",
       "      <th>10708018</th>\n",
       "      <td>01/03/2017</td>\n",
       "      <td>4312</td>\n",
       "      <td>78.0</td>\n",
       "      <td>1081200.0</td>\n",
       "      <td>260.0</td>\n",
       "      <td>68037</td>\n",
       "      <td>12</td>\n",
       "      <td>1000</td>\n",
       "      <td>$16.50</td>\n",
       "      <td>24.75</td>\n",
       "      <td>2</td>\n",
       "      <td>$297.00</td>\n",
       "      <td>2.00</td>\n",
       "    </tr>\n",
       "    <tr>\n",
       "      <th>10708019</th>\n",
       "      <td>01/03/2017</td>\n",
       "      <td>4312</td>\n",
       "      <td>78.0</td>\n",
       "      <td>1012100.0</td>\n",
       "      <td>65.0</td>\n",
       "      <td>10627</td>\n",
       "      <td>12</td>\n",
       "      <td>1000</td>\n",
       "      <td>$9.71</td>\n",
       "      <td>14.57</td>\n",
       "      <td>1</td>\n",
       "      <td>$174.84</td>\n",
       "      <td>1.00</td>\n",
       "    </tr>\n",
       "  </tbody>\n",
       "</table>\n",
       "</div>"
      ],
      "text/plain": [
       "                Date  Store Number  County Number   Category  Vendor Number  \\\n",
       "10708015  01/03/2017          4312           78.0  1012200.0           55.0   \n",
       "10708016  01/03/2017          4312           78.0  1042100.0           35.0   \n",
       "10708017  01/03/2017          4312           78.0  1082000.0          259.0   \n",
       "10708018  01/03/2017          4312           78.0  1081200.0          260.0   \n",
       "10708019  01/03/2017          4312           78.0  1012100.0           65.0   \n",
       "\n",
       "          Item Number  Pack  Bottle Volume (ml) State Bottle Cost  \\\n",
       "10708015         8208     6                1750            $10.52   \n",
       "10708016        28206    12                 750            $10.50   \n",
       "10708017        65195     6                 750             $9.83   \n",
       "10708018        68037    12                1000            $16.50   \n",
       "10708019        10627    12                1000             $9.71   \n",
       "\n",
       "          State Bottle Retail  Bottles Sold Sale (Dollars)  \\\n",
       "10708015                15.78             3         $15.78   \n",
       "10708016                15.75             1        $189.00   \n",
       "10708017                14.75             1         $88.50   \n",
       "10708018                24.75             2        $297.00   \n",
       "10708019                14.57             1        $174.84   \n",
       "\n",
       "          Volume Sold (Liters)  \n",
       "10708015                  5.25  \n",
       "10708016                  0.75  \n",
       "10708017                  0.75  \n",
       "10708018                  2.00  \n",
       "10708019                  1.00  "
      ]
     },
     "execution_count": 167,
     "metadata": {},
     "output_type": "execute_result"
    }
   ],
   "source": [
    "#Load data and data reduction and data cleaning\n",
    "\n",
    "df = pd.read_csv('liquors.csv')\n",
    "df.drop(['Store Location', 'County', 'Invoice/Item Number', 'Item Description', 'Category Name', 'Vendor Name', 'Store Name', 'Address', 'City', 'Volume Sold (Gallons)', 'Zip Code'], axis=1, inplace=True)\n",
    "df.drop(df.index[:10708015], inplace=True)\n",
    "df.dropna(inplace=True)\n",
    "df['State Bottle Retail'] = df['State Bottle Retail'].map(lambda x: x.lstrip('$'))\n",
    "df['State Bottle Retail'] = df['State Bottle Retail'].map(lambda x: float(x))\n",
    "df.head()"
   ]
  },
  {
   "cell_type": "code",
   "execution_count": 169,
   "metadata": {},
   "outputs": [],
   "source": [
    "# Navie Bayes Classifier, part one: Scan data set:\n",
    "\n",
    "sale_category = {}\n",
    "sale_item = {}\n",
    "category_item = {}\n",
    "category_volume = {}\n",
    "csv = {}\n",
    "sv = {}\n",
    "\n",
    "\n",
    "for i, r in df.iterrows():\n",
    "    \n",
    "    category = r['Category']\n",
    "    item = r['Item Number']\n",
    "    price = r['State Bottle Retail']\n",
    "    volume = r['Volume Sold (Liters)']\n",
    "    store = r['Store Number']\n",
    "    vendor = r['Vendor Number']\n",
    "    bottle = r['Bottles Sold']\n",
    "    \n",
    "    if category in sale_category:\n",
    "        sale_category[category] += price*bottle\n",
    "    else:\n",
    "        sale_category[category] = price*bottle\n",
    "        \n",
    "    if item in sale_item:\n",
    "        sale_item[item] += price*bottle\n",
    "    else:\n",
    "        sale_item[item] = price*bottle\n",
    "        \n",
    "    if category in category_item:\n",
    "        if item in category_item[category]:\n",
    "            category_item[category][item] += volume\n",
    "        else:\n",
    "            category_item[category][item] = volume\n",
    "    else:\n",
    "        category_item[category] = {}\n",
    "        category_item[category][item] = volume\n",
    "    \n",
    "    if category in category_volume:\n",
    "        category_volume[category] += volume\n",
    "    else:\n",
    "        category_volume[category] = volume\n",
    "        \n",
    "    if (category, store, vendor) in csv:\n",
    "        csv[(category, store, vendor)] += 1\n",
    "    else:\n",
    "        csv[(category, store, vendor)] = 1\n",
    "        \n",
    "    if (store, vendor) in sv:\n",
    "        sv[(store, vendor)] += 1\n",
    "    else:\n",
    "        sv[(store, vendor)] = 1"
   ]
  },
  {
   "cell_type": "code",
   "execution_count": 185,
   "metadata": {},
   "outputs": [],
   "source": [
    "county_sale = {}\n",
    "county_pop = {}\n",
    "county_vendorV = {}\n",
    "county_vendorR = {}\n",
    "vendor_county = {}\n",
    "\n",
    "\n",
    "for i, r in df.iterrows():\n",
    "    \n",
    "    county = r['County Number']\n",
    "    v = r['Volume Sold (Liters)']\n",
    "    p = r['State Bottle Retail']\n",
    "    vendor = r['Vendor Number']\n",
    "    b = r['Bottles Sold']\n",
    "    category = r['Category']\n",
    "    \n",
    "    if county in county_sale:\n",
    "        if category in county_sale[county]:\n",
    "            county_sale[county][category] += p*b\n",
    "        else:\n",
    "            county_sale[county][category] = p*b\n",
    "    else:\n",
    "        county_sale[county] = {}\n",
    "        county_sale[county][category] = p*b\n",
    "    \n",
    "    if county in county_pop:\n",
    "        if category in county_pop[county]:\n",
    "            county_pop[county][category] += v\n",
    "        else:\n",
    "            county_pop[county][category] = v\n",
    "    else:\n",
    "        county_pop[county] = {}\n",
    "        county_pop[county][category] = v\n",
    "    \n",
    "    if county in county_vendorV:\n",
    "        if vendor in county_vendorV[county]:\n",
    "            county_vendorV[county][vendor] += v\n",
    "        else:\n",
    "            county_vendorV[county][vendor] = v\n",
    "    else:\n",
    "        county_vendorV[county] = {}\n",
    "        county_vendorV[county][vendor] = v\n",
    "    \n",
    "    if county in county_vendorR:\n",
    "        if vendor in county_vendorR[county]:\n",
    "            county_vendorR[county][vendor] += p*b\n",
    "        else:\n",
    "            county_vendorR[county][vendor] = p*b\n",
    "    else:\n",
    "        county_vendorR[county] = {}\n",
    "        county_vendorR[county][vendor] = p*b\n",
    "    \n",
    "    if vendor in vendor_county:\n",
    "        if county in vendor_county[vendor]:\n",
    "            vendor_county[vendor][county] += p*b\n",
    "        else:\n",
    "            vendor_county[vendor][county] = p*b\n",
    "    else:\n",
    "        vendor_county[vendor] = {}\n",
    "        vendor_county[vendor][county] = p*b"
   ]
  },
  {
   "cell_type": "code",
   "execution_count": 184,
   "metadata": {
    "collapsed": true
   },
   "outputs": [],
   "source": [
    "def bayes_model(store, vendor):\n",
    "    P = {}\n",
    "    for key, value in csv.items():\n",
    "        c, s, v = key\n",
    "        if s==store and v==vendor:\n",
    "            P[c] = value/sv[s,v]\n",
    "    if (len(P)):\n",
    "        return max(P, key=P.get)\n",
    "    return None"
   ]
  },
  {
   "cell_type": "code",
   "execution_count": 189,
   "metadata": {
    "collapsed": true
   },
   "outputs": [],
   "source": [
    "def vendor_sale_county(vendor):\n",
    "    return max(vendor_county[vendor], key=vendor_county[vendor].get)"
   ]
  },
  {
   "cell_type": "code",
   "execution_count": 190,
   "metadata": {
    "collapsed": true
   },
   "outputs": [],
   "source": [
    "def county_revenue(county):\n",
    "    return max(county_sale[county], key=county_sale[county].get)"
   ]
  },
  {
   "cell_type": "code",
   "execution_count": 210,
   "metadata": {
    "collapsed": true
   },
   "outputs": [],
   "source": [
    "def county_vendorv(county):\n",
    "    return max(county_vendorV[county], key=county_vendorV[county].get)"
   ]
  },
  {
   "cell_type": "code",
   "execution_count": 211,
   "metadata": {
    "collapsed": true
   },
   "outputs": [],
   "source": [
    "def county_vendorr(county):\n",
    "    return max(county_vendorR[county], key=county_vendorR[county].get)"
   ]
  },
  {
   "cell_type": "code",
   "execution_count": 215,
   "metadata": {
    "collapsed": true
   },
   "outputs": [],
   "source": [
    "def county_p(county):\n",
    "    return max(county_pop[county], key=county_pop[county].get)"
   ]
  },
  {
   "cell_type": "code",
   "execution_count": 212,
   "metadata": {},
   "outputs": [
    {
     "data": {
      "text/plain": [
       "77.0"
      ]
     },
     "execution_count": 212,
     "metadata": {},
     "output_type": "execute_result"
    }
   ],
   "source": [
    "vendor_sale_county(35)"
   ]
  },
  {
   "cell_type": "code",
   "execution_count": 213,
   "metadata": {},
   "outputs": [
    {
     "data": {
      "text/plain": [
       "1081600.0"
      ]
     },
     "execution_count": 213,
     "metadata": {},
     "output_type": "execute_result"
    }
   ],
   "source": [
    "county_revenue(78)"
   ]
  },
  {
   "cell_type": "code",
   "execution_count": 216,
   "metadata": {},
   "outputs": [
    {
     "data": {
      "text/plain": [
       "260.0"
      ]
     },
     "execution_count": 216,
     "metadata": {},
     "output_type": "execute_result"
    }
   ],
   "source": [
    "county_vendorr(77)"
   ]
  },
  {
   "cell_type": "code",
   "execution_count": 217,
   "metadata": {},
   "outputs": [
    {
     "data": {
      "text/plain": [
       "260.0"
      ]
     },
     "execution_count": 217,
     "metadata": {},
     "output_type": "execute_result"
    }
   ],
   "source": [
    "county_vendorv(77)"
   ]
  }
 ],
 "metadata": {
  "kernelspec": {
   "display_name": "Python 3",
   "language": "python",
   "name": "python3"
  },
  "language_info": {
   "codemirror_mode": {
    "name": "ipython",
    "version": 3
   },
   "file_extension": ".py",
   "mimetype": "text/x-python",
   "name": "python",
   "nbconvert_exporter": "python",
   "pygments_lexer": "ipython3",
   "version": "3.6.1"
  }
 },
 "nbformat": 4,
 "nbformat_minor": 2
}
