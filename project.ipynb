{
 "cells": [
  {
   "cell_type": "code",
   "execution_count": 145,
   "metadata": {
    "collapsed": true
   },
   "outputs": [],
   "source": [
    "import pandas as pd\n",
    "import numpy as np\n",
    "import matplotlib.pylab as plt"
   ]
  },
  {
   "cell_type": "code",
   "execution_count": 146,
   "metadata": {},
   "outputs": [
    {
     "name": "stderr",
     "output_type": "stream",
     "text": [
      "C:\\ProgramData\\Anaconda3\\lib\\site-packages\\IPython\\core\\interactiveshell.py:2717: DtypeWarning: Columns (6) have mixed types. Specify dtype option on import or set low_memory=False.\n",
      "  interactivity=interactivity, compiler=compiler, result=result)\n"
     ]
    }
   ],
   "source": [
    "df = pd.read_csv('liquors.csv')"
   ]
  },
  {
   "cell_type": "code",
   "execution_count": 147,
   "metadata": {},
   "outputs": [],
   "source": [
    "df.drop(['Store Location','County', 'Invoice/Item Number'], axis=1, inplace=True)"
   ]
  },
  {
   "cell_type": "code",
   "execution_count": 148,
   "metadata": {},
   "outputs": [],
   "source": [
    "df.drop(df.index[:10708009], inplace=True)"
   ]
  },
  {
   "cell_type": "code",
   "execution_count": 153,
   "metadata": {
    "collapsed": true
   },
   "outputs": [],
   "source": [
    "df.drop(df.index[:1], inplace=True)"
   ]
  },
  {
   "cell_type": "code",
   "execution_count": 154,
   "metadata": {},
   "outputs": [
    {
     "data": {
      "text/html": [
       "<div>\n",
       "<style>\n",
       "    .dataframe thead tr:only-child th {\n",
       "        text-align: right;\n",
       "    }\n",
       "\n",
       "    .dataframe thead th {\n",
       "        text-align: left;\n",
       "    }\n",
       "\n",
       "    .dataframe tbody tr th {\n",
       "        vertical-align: top;\n",
       "    }\n",
       "</style>\n",
       "<table border=\"1\" class=\"dataframe\">\n",
       "  <thead>\n",
       "    <tr style=\"text-align: right;\">\n",
       "      <th></th>\n",
       "      <th>Date</th>\n",
       "      <th>Store Number</th>\n",
       "      <th>Store Name</th>\n",
       "      <th>Address</th>\n",
       "      <th>City</th>\n",
       "      <th>Zip Code</th>\n",
       "      <th>County Number</th>\n",
       "      <th>Category</th>\n",
       "      <th>Category Name</th>\n",
       "      <th>Vendor Number</th>\n",
       "      <th>...</th>\n",
       "      <th>Item Number</th>\n",
       "      <th>Item Description</th>\n",
       "      <th>Pack</th>\n",
       "      <th>Bottle Volume (ml)</th>\n",
       "      <th>State Bottle Cost</th>\n",
       "      <th>State Bottle Retail</th>\n",
       "      <th>Bottles Sold</th>\n",
       "      <th>Sale (Dollars)</th>\n",
       "      <th>Volume Sold (Liters)</th>\n",
       "      <th>Volume Sold (Gallons)</th>\n",
       "    </tr>\n",
       "  </thead>\n",
       "  <tbody>\n",
       "    <tr>\n",
       "      <th>10708015</th>\n",
       "      <td>01/03/2017</td>\n",
       "      <td>4312</td>\n",
       "      <td>I-80 Liquor / Council Bluffs</td>\n",
       "      <td>2411 S 24TH ST #1</td>\n",
       "      <td>Council Bluffs</td>\n",
       "      <td>51501</td>\n",
       "      <td>78.0</td>\n",
       "      <td>1012200.0</td>\n",
       "      <td>Scotch Whiskies</td>\n",
       "      <td>55.0</td>\n",
       "      <td>...</td>\n",
       "      <td>8208</td>\n",
       "      <td>House Of Stuart</td>\n",
       "      <td>6</td>\n",
       "      <td>1750</td>\n",
       "      <td>$10.52</td>\n",
       "      <td>$15.78</td>\n",
       "      <td>3</td>\n",
       "      <td>$15.78</td>\n",
       "      <td>5.25</td>\n",
       "      <td>1.38</td>\n",
       "    </tr>\n",
       "    <tr>\n",
       "      <th>10708016</th>\n",
       "      <td>01/03/2017</td>\n",
       "      <td>4312</td>\n",
       "      <td>I-80 Liquor / Council Bluffs</td>\n",
       "      <td>2411 S 24TH ST #1</td>\n",
       "      <td>Council Bluffs</td>\n",
       "      <td>51501</td>\n",
       "      <td>78.0</td>\n",
       "      <td>1042100.0</td>\n",
       "      <td>Imported Dry Gins</td>\n",
       "      <td>35.0</td>\n",
       "      <td>...</td>\n",
       "      <td>28206</td>\n",
       "      <td>Bombay Dry Gin</td>\n",
       "      <td>12</td>\n",
       "      <td>750</td>\n",
       "      <td>$10.50</td>\n",
       "      <td>$15.75</td>\n",
       "      <td>1</td>\n",
       "      <td>$189.00</td>\n",
       "      <td>0.75</td>\n",
       "      <td>0.19</td>\n",
       "    </tr>\n",
       "    <tr>\n",
       "      <th>10708017</th>\n",
       "      <td>01/03/2017</td>\n",
       "      <td>4312</td>\n",
       "      <td>I-80 Liquor / Council Bluffs</td>\n",
       "      <td>2411 S 24TH ST #1</td>\n",
       "      <td>Council Bluffs</td>\n",
       "      <td>51501</td>\n",
       "      <td>78.0</td>\n",
       "      <td>1082000.0</td>\n",
       "      <td>Imported Cordials &amp; Liqueurs</td>\n",
       "      <td>259.0</td>\n",
       "      <td>...</td>\n",
       "      <td>65195</td>\n",
       "      <td>Hpnotiq</td>\n",
       "      <td>6</td>\n",
       "      <td>750</td>\n",
       "      <td>$9.83</td>\n",
       "      <td>$14.75</td>\n",
       "      <td>1</td>\n",
       "      <td>$88.50</td>\n",
       "      <td>0.75</td>\n",
       "      <td>0.19</td>\n",
       "    </tr>\n",
       "    <tr>\n",
       "      <th>10708018</th>\n",
       "      <td>01/03/2017</td>\n",
       "      <td>4312</td>\n",
       "      <td>I-80 Liquor / Council Bluffs</td>\n",
       "      <td>2411 S 24TH ST #1</td>\n",
       "      <td>Council Bluffs</td>\n",
       "      <td>51501</td>\n",
       "      <td>78.0</td>\n",
       "      <td>1081200.0</td>\n",
       "      <td>Cream Liqueurs</td>\n",
       "      <td>260.0</td>\n",
       "      <td>...</td>\n",
       "      <td>68037</td>\n",
       "      <td>Bailey's Original Irish Cream</td>\n",
       "      <td>12</td>\n",
       "      <td>1000</td>\n",
       "      <td>$16.50</td>\n",
       "      <td>$24.75</td>\n",
       "      <td>2</td>\n",
       "      <td>$297.00</td>\n",
       "      <td>2.00</td>\n",
       "      <td>0.52</td>\n",
       "    </tr>\n",
       "    <tr>\n",
       "      <th>10708019</th>\n",
       "      <td>01/03/2017</td>\n",
       "      <td>4312</td>\n",
       "      <td>I-80 Liquor / Council Bluffs</td>\n",
       "      <td>2411 S 24TH ST #1</td>\n",
       "      <td>Council Bluffs</td>\n",
       "      <td>51501</td>\n",
       "      <td>78.0</td>\n",
       "      <td>1012100.0</td>\n",
       "      <td>Canadian Whiskies</td>\n",
       "      <td>65.0</td>\n",
       "      <td>...</td>\n",
       "      <td>10627</td>\n",
       "      <td>Canadian Club Whisky</td>\n",
       "      <td>12</td>\n",
       "      <td>1000</td>\n",
       "      <td>$9.71</td>\n",
       "      <td>$14.57</td>\n",
       "      <td>1</td>\n",
       "      <td>$174.84</td>\n",
       "      <td>1.00</td>\n",
       "      <td>0.26</td>\n",
       "    </tr>\n",
       "    <tr>\n",
       "      <th>10708020</th>\n",
       "      <td>01/03/2017</td>\n",
       "      <td>4312</td>\n",
       "      <td>I-80 Liquor / Council Bluffs</td>\n",
       "      <td>2411 S 24TH ST #1</td>\n",
       "      <td>Council Bluffs</td>\n",
       "      <td>51501</td>\n",
       "      <td>78.0</td>\n",
       "      <td>1062200.0</td>\n",
       "      <td>White Rum</td>\n",
       "      <td>55.0</td>\n",
       "      <td>...</td>\n",
       "      <td>44217</td>\n",
       "      <td>Barton Rum Light</td>\n",
       "      <td>12</td>\n",
       "      <td>1000</td>\n",
       "      <td>$4.00</td>\n",
       "      <td>$6.00</td>\n",
       "      <td>1</td>\n",
       "      <td>$72.00</td>\n",
       "      <td>1.00</td>\n",
       "      <td>0.26</td>\n",
       "    </tr>\n",
       "    <tr>\n",
       "      <th>10708021</th>\n",
       "      <td>01/03/2017</td>\n",
       "      <td>4312</td>\n",
       "      <td>I-80 Liquor / Council Bluffs</td>\n",
       "      <td>2411 S 24TH ST #1</td>\n",
       "      <td>Council Bluffs</td>\n",
       "      <td>51501</td>\n",
       "      <td>78.0</td>\n",
       "      <td>1062400.0</td>\n",
       "      <td>Spiced Rum</td>\n",
       "      <td>260.0</td>\n",
       "      <td>...</td>\n",
       "      <td>43338</td>\n",
       "      <td>Captain Morgan Spiced Rum</td>\n",
       "      <td>6</td>\n",
       "      <td>1750</td>\n",
       "      <td>$18.00</td>\n",
       "      <td>$27.00</td>\n",
       "      <td>2</td>\n",
       "      <td>$162.00</td>\n",
       "      <td>3.50</td>\n",
       "      <td>0.92</td>\n",
       "    </tr>\n",
       "    <tr>\n",
       "      <th>10708022</th>\n",
       "      <td>01/03/2017</td>\n",
       "      <td>4312</td>\n",
       "      <td>I-80 Liquor / Council Bluffs</td>\n",
       "      <td>2411 S 24TH ST #1</td>\n",
       "      <td>Council Bluffs</td>\n",
       "      <td>51501</td>\n",
       "      <td>78.0</td>\n",
       "      <td>1031000.0</td>\n",
       "      <td>American Vodka</td>\n",
       "      <td>55.0</td>\n",
       "      <td>...</td>\n",
       "      <td>35318</td>\n",
       "      <td>Barton Vodka</td>\n",
       "      <td>6</td>\n",
       "      <td>1750</td>\n",
       "      <td>$6.92</td>\n",
       "      <td>$10.38</td>\n",
       "      <td>5</td>\n",
       "      <td>$62.28</td>\n",
       "      <td>8.75</td>\n",
       "      <td>2.31</td>\n",
       "    </tr>\n",
       "    <tr>\n",
       "      <th>10708023</th>\n",
       "      <td>01/03/2017</td>\n",
       "      <td>4312</td>\n",
       "      <td>I-80 Liquor / Council Bluffs</td>\n",
       "      <td>2411 S 24TH ST #1</td>\n",
       "      <td>Council Bluffs</td>\n",
       "      <td>51501</td>\n",
       "      <td>78.0</td>\n",
       "      <td>1032200.0</td>\n",
       "      <td>Imported Flavored Vodka</td>\n",
       "      <td>370.0</td>\n",
       "      <td>...</td>\n",
       "      <td>34051</td>\n",
       "      <td>Absolut Raspberri</td>\n",
       "      <td>12</td>\n",
       "      <td>1000</td>\n",
       "      <td>$14.99</td>\n",
       "      <td>$22.49</td>\n",
       "      <td>1</td>\n",
       "      <td>$269.88</td>\n",
       "      <td>1.00</td>\n",
       "      <td>0.26</td>\n",
       "    </tr>\n",
       "    <tr>\n",
       "      <th>10708024</th>\n",
       "      <td>01/03/2017</td>\n",
       "      <td>4312</td>\n",
       "      <td>I-80 Liquor / Council Bluffs</td>\n",
       "      <td>2411 S 24TH ST #1</td>\n",
       "      <td>Council Bluffs</td>\n",
       "      <td>51501</td>\n",
       "      <td>78.0</td>\n",
       "      <td>1032000.0</td>\n",
       "      <td>Imported Vodka</td>\n",
       "      <td>370.0</td>\n",
       "      <td>...</td>\n",
       "      <td>34007</td>\n",
       "      <td>Absolut Swedish Vodka 80 Prf</td>\n",
       "      <td>12</td>\n",
       "      <td>1000</td>\n",
       "      <td>$14.99</td>\n",
       "      <td>$22.49</td>\n",
       "      <td>3</td>\n",
       "      <td>$269.88</td>\n",
       "      <td>3.00</td>\n",
       "      <td>0.79</td>\n",
       "    </tr>\n",
       "  </tbody>\n",
       "</table>\n",
       "<p>10 rows × 21 columns</p>\n",
       "</div>"
      ],
      "text/plain": [
       "                Date  Store Number                    Store Name  \\\n",
       "10708015  01/03/2017          4312  I-80 Liquor / Council Bluffs   \n",
       "10708016  01/03/2017          4312  I-80 Liquor / Council Bluffs   \n",
       "10708017  01/03/2017          4312  I-80 Liquor / Council Bluffs   \n",
       "10708018  01/03/2017          4312  I-80 Liquor / Council Bluffs   \n",
       "10708019  01/03/2017          4312  I-80 Liquor / Council Bluffs   \n",
       "10708020  01/03/2017          4312  I-80 Liquor / Council Bluffs   \n",
       "10708021  01/03/2017          4312  I-80 Liquor / Council Bluffs   \n",
       "10708022  01/03/2017          4312  I-80 Liquor / Council Bluffs   \n",
       "10708023  01/03/2017          4312  I-80 Liquor / Council Bluffs   \n",
       "10708024  01/03/2017          4312  I-80 Liquor / Council Bluffs   \n",
       "\n",
       "                    Address            City Zip Code  County Number  \\\n",
       "10708015  2411 S 24TH ST #1  Council Bluffs    51501           78.0   \n",
       "10708016  2411 S 24TH ST #1  Council Bluffs    51501           78.0   \n",
       "10708017  2411 S 24TH ST #1  Council Bluffs    51501           78.0   \n",
       "10708018  2411 S 24TH ST #1  Council Bluffs    51501           78.0   \n",
       "10708019  2411 S 24TH ST #1  Council Bluffs    51501           78.0   \n",
       "10708020  2411 S 24TH ST #1  Council Bluffs    51501           78.0   \n",
       "10708021  2411 S 24TH ST #1  Council Bluffs    51501           78.0   \n",
       "10708022  2411 S 24TH ST #1  Council Bluffs    51501           78.0   \n",
       "10708023  2411 S 24TH ST #1  Council Bluffs    51501           78.0   \n",
       "10708024  2411 S 24TH ST #1  Council Bluffs    51501           78.0   \n",
       "\n",
       "           Category                 Category Name  Vendor Number  \\\n",
       "10708015  1012200.0               Scotch Whiskies           55.0   \n",
       "10708016  1042100.0             Imported Dry Gins           35.0   \n",
       "10708017  1082000.0  Imported Cordials & Liqueurs          259.0   \n",
       "10708018  1081200.0                Cream Liqueurs          260.0   \n",
       "10708019  1012100.0             Canadian Whiskies           65.0   \n",
       "10708020  1062200.0                     White Rum           55.0   \n",
       "10708021  1062400.0                    Spiced Rum          260.0   \n",
       "10708022  1031000.0                American Vodka           55.0   \n",
       "10708023  1032200.0       Imported Flavored Vodka          370.0   \n",
       "10708024  1032000.0                Imported Vodka          370.0   \n",
       "\n",
       "                  ...           Item Number               Item Description  \\\n",
       "10708015          ...                  8208                House Of Stuart   \n",
       "10708016          ...                 28206                 Bombay Dry Gin   \n",
       "10708017          ...                 65195                        Hpnotiq   \n",
       "10708018          ...                 68037  Bailey's Original Irish Cream   \n",
       "10708019          ...                 10627           Canadian Club Whisky   \n",
       "10708020          ...                 44217               Barton Rum Light   \n",
       "10708021          ...                 43338      Captain Morgan Spiced Rum   \n",
       "10708022          ...                 35318                   Barton Vodka   \n",
       "10708023          ...                 34051              Absolut Raspberri   \n",
       "10708024          ...                 34007   Absolut Swedish Vodka 80 Prf   \n",
       "\n",
       "         Pack  Bottle Volume (ml)  State Bottle Cost State Bottle Retail  \\\n",
       "10708015    6                1750             $10.52              $15.78   \n",
       "10708016   12                 750             $10.50              $15.75   \n",
       "10708017    6                 750              $9.83              $14.75   \n",
       "10708018   12                1000             $16.50              $24.75   \n",
       "10708019   12                1000              $9.71              $14.57   \n",
       "10708020   12                1000              $4.00               $6.00   \n",
       "10708021    6                1750             $18.00              $27.00   \n",
       "10708022    6                1750              $6.92              $10.38   \n",
       "10708023   12                1000             $14.99              $22.49   \n",
       "10708024   12                1000             $14.99              $22.49   \n",
       "\n",
       "         Bottles Sold  Sale (Dollars) Volume Sold (Liters)  \\\n",
       "10708015            3          $15.78                 5.25   \n",
       "10708016            1         $189.00                 0.75   \n",
       "10708017            1          $88.50                 0.75   \n",
       "10708018            2         $297.00                 2.00   \n",
       "10708019            1         $174.84                 1.00   \n",
       "10708020            1          $72.00                 1.00   \n",
       "10708021            2         $162.00                 3.50   \n",
       "10708022            5          $62.28                 8.75   \n",
       "10708023            1         $269.88                 1.00   \n",
       "10708024            3         $269.88                 3.00   \n",
       "\n",
       "          Volume Sold (Gallons)  \n",
       "10708015                   1.38  \n",
       "10708016                   0.19  \n",
       "10708017                   0.19  \n",
       "10708018                   0.52  \n",
       "10708019                   0.26  \n",
       "10708020                   0.26  \n",
       "10708021                   0.92  \n",
       "10708022                   2.31  \n",
       "10708023                   0.26  \n",
       "10708024                   0.79  \n",
       "\n",
       "[10 rows x 21 columns]"
      ]
     },
     "execution_count": 154,
     "metadata": {},
     "output_type": "execute_result"
    }
   ],
   "source": [
    "df.head(10)"
   ]
  },
  {
   "cell_type": "code",
   "execution_count": 170,
   "metadata": {},
   "outputs": [
    {
     "data": {
      "image/png": "[encoded data removed]",
      "text/plain": [
       "<matplotlib.figure.Figure at 0x1bf905378d0>"
      ]
     },
     "metadata": {},
     "output_type": "display_data"
    }
   ],
   "source": [
    "plt.figure(figsize=(16, 8))\n",
    "df['Category'].hist(bins=np.linspace(1000000, 1200000, 100))\n",
    "plt.xlabel('Category Number (different liquors)')\n",
    "plt.ylabel('Frequecny')\n",
    "plt.show()"
   ]
  },
  {
   "cell_type": "code",
   "execution_count": 97,
   "metadata": {},
   "outputs": [
    {
     "data": {
      "image/png": "[encoded data removed]",
      "text/plain": [
       "<matplotlib.figure.Figure at 0x1bbb593e320>"
      ]
     },
     "metadata": {},
     "output_type": "display_data"
    }
   ],
   "source": [
    "df['Pack'].hist(bins=5)\n",
    "plt.xlabel('Number of Packs')\n",
    "plt.ylabel('Frequecny')\n",
    "plt.show()"
   ]
  },
  {
   "cell_type": "code",
   "execution_count": 115,
   "metadata": {},
   "outputs": [
    {
     "data": {
      "image/png": "[encoded data removed]",
      "text/plain": [
       "<matplotlib.figure.Figure at 0x1bba63605f8>"
      ]
     },
     "metadata": {},
     "output_type": "display_data"
    }
   ],
   "source": [
    "plt.hist(df['Volume Sold (Liters)'], bins=np.arange(0, 20, 0.5))\n",
    "plt.xlabel('Volume Sold (Liters)')\n",
    "plt.ylabel('Frequency')\n",
    "plt.show()"
   ]
  },
  {
   "cell_type": "code",
   "execution_count": 139,
   "metadata": {},
   "outputs": [
    {
     "data": {
      "image/png": "[encoded data removed]",
      "text/plain": [
       "<matplotlib.figure.Figure at 0x1beaec3a278>"
      ]
     },
     "metadata": {},
     "output_type": "display_data"
    }
   ],
   "source": [
    "df['Bottles Sold'].hist(bins=np.linspace(0, 20, 50))\n",
    "plt.xlabel('Number of Bottles Sold')\n",
    "plt.ylabel('Frequecny')\n",
    "plt.show()"
   ]
  },
  {
   "cell_type": "code",
   "execution_count": 124,
   "metadata": {},
   "outputs": [
    {
     "data": {
      "text/plain": [
       "978.0"
      ]
     },
     "execution_count": 124,
     "metadata": {},
     "output_type": "execute_result"
    }
   ],
   "source": [
    "max(df['Vendor Number'])"
   ]
  },
  {
   "cell_type": "code",
   "execution_count": 144,
   "metadata": {},
   "outputs": [
    {
     "data": {
      "text/plain": [
       "10708015     6\n",
       "10708016    12\n",
       "10708017     6\n",
       "10708018    12\n",
       "10708019    12\n",
       "10708020    12\n",
       "10708021     6\n",
       "10708022     6\n",
       "10708023    12\n",
       "10708024    12\n",
       "10708025    12\n",
       "10708026    12\n",
       "10708027    12\n",
       "10708028    12\n",
       "10708029     6\n",
       "10708030    12\n",
       "10708031    12\n",
       "10708032    12\n",
       "10708033     6\n",
       "10708034    12\n",
       "10708035    12\n",
       "10708036    10\n",
       "10708037    24\n",
       "10708038    24\n",
       "10708039    24\n",
       "10708040    24\n",
       "10708041    24\n",
       "10708042    24\n",
       "10708043    12\n",
       "10708044    12\n",
       "            ..\n",
       "12591047    12\n",
       "12591048    12\n",
       "12591049    12\n",
       "12591050    12\n",
       "12591051    12\n",
       "12591052    12\n",
       "12591053    12\n",
       "12591054    12\n",
       "12591055    12\n",
       "12591056    12\n",
       "12591057    12\n",
       "12591058    12\n",
       "12591059    24\n",
       "12591060    48\n",
       "12591061    24\n",
       "12591062    24\n",
       "12591063    24\n",
       "12591064    24\n",
       "12591065    24\n",
       "12591066    24\n",
       "12591067    48\n",
       "12591068    12\n",
       "12591069    12\n",
       "12591070    10\n",
       "12591071    12\n",
       "12591072    12\n",
       "12591073     6\n",
       "12591074     6\n",
       "12591075     6\n",
       "12591076     6\n",
       "Name: Pack, Length: 1883062, dtype: int64"
      ]
     },
     "execution_count": 144,
     "metadata": {},
     "output_type": "execute_result"
    }
   ],
   "source": [
    "df['Pack']"
   ]
  },
  {
   "cell_type": "code",
   "execution_count": 136,
   "metadata": {},
   "outputs": [
    {
     "data": {
      "image/png": "[encoded data removed]",
      "text/plain": [
       "<matplotlib.figure.Figure at 0x1bdf9616748>"
      ]
     },
     "metadata": {},
     "output_type": "display_data"
    }
   ],
   "source": [
    "plt.hist(df['Volume Sold (Gallons)'], bins=np.arange(0, 100, 0.5))\n",
    "plt.xlabel('Volume Sold (Gallons)')\n",
    "plt.ylabel('Frequency')\n",
    "plt.show()"
   ]
  },
  {
   "cell_type": "code",
   "execution_count": 133,
   "metadata": {},
   "outputs": [
    {
     "data": {
      "image/png": "[encoded data removed]",
      "text/plain": [
       "<matplotlib.figure.Figure at 0x1bdf1ec79e8>"
      ]
     },
     "metadata": {},
     "output_type": "display_data"
    }
   ],
   "source": [
    "plt.boxplot(df['Volume Sold (Gallons)'].values)\n",
    "plt.show()"
   ]
  },
  {
   "cell_type": "code",
   "execution_count": 134,
   "metadata": {},
   "outputs": [
    {
     "data": {
      "text/plain": [
       "count    1.883062e+06\n",
       "mean     5.108708e-01\n",
       "std      1.532917e+00\n",
       "min      0.000000e+00\n",
       "25%      1.900000e-01\n",
       "50%      3.900000e-01\n",
       "75%      5.200000e-01\n",
       "max      3.120500e+02\n",
       "Name: Volume Sold (Gallons), dtype: float64"
      ]
     },
     "execution_count": 134,
     "metadata": {},
     "output_type": "execute_result"
    }
   ],
   "source": [
    "df['Volume Sold (Gallons)'].describe()"
   ]
  },
  {
   "cell_type": "code",
   "execution_count": 137,
   "metadata": {},
   "outputs": [
    {
     "data": {
      "text/plain": [
       "count    1.883062e+06\n",
       "mean     2.237683e+00\n",
       "std      3.818469e+00\n",
       "min      0.000000e+00\n",
       "25%      1.000000e+00\n",
       "50%      1.000000e+00\n",
       "75%      3.000000e+00\n",
       "max      6.750000e+02\n",
       "Name: Bottles Sold, dtype: float64"
      ]
     },
     "execution_count": 137,
     "metadata": {},
     "output_type": "execute_result"
    }
   ],
   "source": [
    "df['Bottles Sold'].describe()"
   ]
  },
  {
   "cell_type": "code",
   "execution_count": 140,
   "metadata": {},
   "outputs": [
    {
     "data": {
      "text/plain": [
       "count    1.883062e+06\n",
       "mean     1.244394e+01\n",
       "std      7.815421e+00\n",
       "min      1.000000e+00\n",
       "25%      6.000000e+00\n",
       "50%      1.200000e+01\n",
       "75%      1.200000e+01\n",
       "max      4.800000e+01\n",
       "Name: Pack, dtype: float64"
      ]
     },
     "execution_count": 140,
     "metadata": {},
     "output_type": "execute_result"
    }
   ],
   "source": [
    "df['Pack'].describe()"
   ]
  },
  {
   "cell_type": "code",
   "execution_count": 141,
   "metadata": {},
   "outputs": [
    {
     "data": {
      "text/plain": [
       "962001.35999278422"
      ]
     },
     "execution_count": 141,
     "metadata": {},
     "output_type": "execute_result"
    }
   ],
   "source": [
    "sum(df['Volume Sold (Gallons)'])"
   ]
  },
  {
   "cell_type": "code",
   "execution_count": null,
   "metadata": {
    "collapsed": true
   },
   "outputs": [],
   "source": []
  }
 ],
 "metadata": {
  "kernelspec": {
   "display_name": "Python 3",
   "language": "python",
   "name": "python3"
  },
  "language_info": {
   "codemirror_mode": {
    "name": "ipython",
    "version": 3
   },
   "file_extension": ".py",
   "mimetype": "text/x-python",
   "name": "python",
   "nbconvert_exporter": "python",
   "pygments_lexer": "ipython3",
   "version": "3.6.1"
  }
 },
 "nbformat": 4,
 "nbformat_minor": 2
}
